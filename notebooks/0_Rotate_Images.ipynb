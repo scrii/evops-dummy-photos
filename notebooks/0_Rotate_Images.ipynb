{
 "cells": [
  {
   "cell_type": "code",
   "execution_count": null,
   "id": "5a75bfd4",
   "metadata": {},
   "outputs": [],
   "source": [
    "import json\n",
    "import random"
   ]
  },
  {
   "cell_type": "code",
   "execution_count": 5,
   "id": "7992ae77",
   "metadata": {},
   "outputs": [],
   "source": [
    "with open('all_photos.json', 'r', encoding='utf-8') as json_file:\n",
    "    all_photos = json.load(json_file)"
   ]
  },
  {
   "cell_type": "code",
   "execution_count": 6,
   "id": "bc06d2cc",
   "metadata": {},
   "outputs": [
    {
     "data": {
      "text/plain": [
       "['https://scrii.github.io/evops-dummy-photos/photos/photo_1@15-11-2019_14-17-29.jpg',\n",
       " 'https://scrii.github.io/evops-dummy-photos/photos/photo_2@19-11-2019_17-20-16.jpg',\n",
       " 'https://scrii.github.io/evops-dummy-photos/photos/photo_3@21-11-2019_12-23-56.jpg',\n",
       " 'https://scrii.github.io/evops-dummy-photos/photos/photo_9@27-11-2019_16-42-47.jpg',\n",
       " 'https://scrii.github.io/evops-dummy-photos/photos/photo_10@02-12-2019_12-46-45.jpg']"
      ]
     },
     "execution_count": 6,
     "metadata": {},
     "output_type": "execute_result"
    }
   ],
   "source": [
    "all_photos[:5]"
   ]
  },
  {
   "cell_type": "code",
   "execution_count": 12,
   "id": "38f43272",
   "metadata": {},
   "outputs": [],
   "source": [
    "def rotate(path: str):\n",
    "    image = Image.open(path)\n",
    "    rotated_image = image.rotate(-90, expand=True)\n",
    "    rotated_image.save(path)"
   ]
  },
  {
   "cell_type": "code",
   "execution_count": 16,
   "id": "8f822c5c",
   "metadata": {},
   "outputs": [],
   "source": [
    "for im in random.sample(all_photos, len(all_photos) // 2):\n",
    "    rotate(im.split('/')[-2] + '/' + im.split('/')[-1])"
   ]
  }
 ],
 "metadata": {
  "kernelspec": {
   "display_name": "Python 3",
   "language": "python",
   "name": "python3"
  },
  "language_info": {
   "codemirror_mode": {
    "name": "ipython",
    "version": 3
   },
   "file_extension": ".py",
   "mimetype": "text/x-python",
   "name": "python",
   "nbconvert_exporter": "python",
   "pygments_lexer": "ipython3",
   "version": "3.13.0"
  }
 },
 "nbformat": 4,
 "nbformat_minor": 5
}
